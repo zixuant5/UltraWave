{
 "cells": [
  {
   "cell_type": "markdown",
   "metadata": {
    "pycharm": {
     "name": "#%% md\n"
    }
   },
   "source": [
    "# Acoustic Absorption 2D Example\n",
    "\n",
    "This notebook demonstrates a 2D acoustic wave simulation for a homogeneous absorbing medium. We'll guide you through the setup process step by step."
   ]
  },
  {
   "cell_type": "code",
   "execution_count": null,
   "metadata": {
    "pycharm": {
     "name": "#%%\n"
    }
   },
   "outputs": [],
   "source": [
    "import numpy as np\n",
    "import matplotlib.pyplot as plt\n",
    "\n",
    "import sys\n",
    "import os\n",
    "module_path = os.path.abspath(os.path.join( '..'))\n",
    "if module_path not in sys.path:\n",
    "    sys.path.append(module_path)\n",
    "\n",
    "import ultrawave\n",
    "from ultrawave.lib.model_2d import Model"
   ]
  },
  {
   "cell_type": "markdown",
   "metadata": {
    "pycharm": {
     "name": "#%% md\n"
    }
   },
   "source": [
    "## GPU acceleration\n",
    "\n",
    "To use GPU to accelerate this simulation, you need to have NVIDIA HPC SDK installed, and run the following code.\n",
    "\n",
    "If you don't want to use GPU, just skip this part. The code will automatically ran on CPU."
   ]
  },
  {
   "cell_type": "code",
   "execution_count": null,
   "metadata": {
    "pycharm": {
     "name": "#%%\n"
    }
   },
   "outputs": [],
   "source": [
    "from devito import configuration\n",
    "configuration['platform'] = 'nvidiaX'\n",
    "configuration['compiler'] = 'pgcc'\n",
    "configuration['language'] = 'openacc'"
   ]
  },
  {
   "cell_type": "markdown",
   "metadata": {
    "pycharm": {
     "name": "#%% md\n"
    }
   },
   "source": [
    "## Define the model\n",
    "\n",
    "The model encapsulates the simulation grid and medium properties:\n",
    "\n",
    "- **Grid Setup**: We start by defining a grid with specified spacing and shape.\n",
    "- **Simulated Medium**: A homogeneous medium with a sound speed of $1500 \\text{ m/s}$ and a density of $1000 \\text{ kg/m}^3$.\n"
   ]
  },
  {
   "cell_type": "code",
   "execution_count": null,
   "metadata": {
    "pycharm": {
     "name": "#%%\n"
    }
   },
   "outputs": [],
   "source": [
    "# Define grid spacing in [m]\n",
    "spacing = (5.e-5, 5.e-5) # [m]\n",
    "\n",
    "# The number of grid points in each dimension\n",
    "shape = (int(30e-3/spacing[0]),\n",
    "         int(18e-3/spacing[1]))\n",
    "\n",
    "# Define the origin coordinate, which is the top left corner of the grid\n",
    "origin = (0., 0.)\n",
    "\n",
    "# Compressional wave speed\n",
    "vp_background = 1500  # Background speed in [m/s].\n",
    "vp = np.full(shape, vp_background, dtype=np.float32)\n",
    "\n",
    "# Density\n",
    "rho_background = 1000  # Background density in [kg/m^3].\n",
    "rho = np.full(shape, rho_background, dtype=np.float32)"
   ]
  },
  {
   "cell_type": "markdown",
   "metadata": {
    "pycharm": {
     "name": "#%% md\n"
    }
   },
   "source": [
    "- **Frequency-dependent Power Law Absorption**:\n",
    "  - **$\\alpha_0$**: 0.7 dB/(cm MHz^y)\n",
    "  - **$y$**: 1.5"
   ]
  },
  {
   "cell_type": "code",
   "execution_count": null,
   "metadata": {
    "pycharm": {
     "name": "#%%\n"
    }
   },
   "outputs": [],
   "source": [
    "from scipy.optimize import curve_fit\n",
    "import matplotlib.pyplot as plt\n",
    "\n",
    "# Define the physical fit function\n",
    "def fit_function(w, eta_1, tau_1, eta_2, tau_2):\n",
    "    term1 = (eta_1 / (2 * 1540 * tau_1)) * (w**2 * tau_1**2) / (1 + w**2 * tau_1**2)\n",
    "    term2 = (eta_2 / (2 * 1540 * tau_2)) * (w**2 * tau_2**2) / (1 + w**2 * tau_2**2)\n",
    "    return term1 + term2\n",
    "\n",
    "# Generate w values from 0 to 2*pi*20 MHz\n",
    "w = np.linspace(0, 2 * np.pi * 12e6, num=1000)\n",
    "\n",
    "a0 = 0.7\n",
    "y = 1.5\n",
    "a_w = a0 * (w /(2*np.pi* 1e6))**y\n",
    "\n",
    "# Refined initial guesses based on physical intuition\n",
    "initial_guesses = [0.5, 1.e-8, 0.5, 1.0e-6]\n",
    "\n",
    "optimal_parameters, covariance = curve_fit(\n",
    "    fit_function, w, a_w, p0=initial_guesses, maxfev=100000\n",
    ")\n",
    "\n",
    "# Extract the optimal parameters\n",
    "eta_1, tau_1, eta_2, tau_2 = optimal_parameters\n",
    "\n",
    "# Print the results\n",
    "print(f\"Optimal eta_1: {eta_1}\")\n",
    "print(f\"Optimal tau_1: {tau_1}\")\n",
    "print(f\"Optimal eta_2: {eta_2}\")\n",
    "print(f\"Optimal tau_2: {tau_2}\")\n",
    "\n",
    "# Compute the fitted a(w) using the optimal parameters\n",
    "fitted_a_w = fit_function(w, eta_1, tau_1, eta_2, tau_2)\n",
    "\n",
    "# Plot the original a(w) data and the fitted curve\n",
    "plt.figure(figsize=(10, 6))\n",
    "plt.plot(w/(2*np.pi*1e6), a_w, 'b-', label='Original $a(w)$')  # Original data\n",
    "plt.plot(w/(2*np.pi*1e6), fitted_a_w, 'r--', label='Fitted $a(w)$')  # Fitted curve\n",
    "plt.xlabel('Frequency (MHz)')\n",
    "plt.ylabel('$a(w)$')\n",
    "plt.title('Original vs Fitted $a(w)$')\n",
    "plt.legend()\n",
    "plt.grid(True)\n",
    "plt.show()"
   ]
  },
  {
   "cell_type": "code",
   "execution_count": null,
   "outputs": [],
   "source": [
    "db2neper = 100 * (1.e-6 / (2*np.pi))**y / (20 * np.log10(np.exp(1)))\n",
    "\n",
    "# Transfer from dB to Np\n",
    "eta_1 = eta_1*db2neper*(2*np.pi* 1e6)**y\n",
    "eta_2 = eta_2*db2neper*(2*np.pi* 1e6)**y"
   ],
   "metadata": {
    "collapsed": false,
    "pycharm": {
     "name": "#%%\n"
    }
   }
  },
  {
   "cell_type": "markdown",
   "metadata": {
    "pycharm": {
     "name": "#%% md\n"
    }
   },
   "source": [
    "With the simulating grid and medium defined, we can create a 3D model with a time order of 2 and space order of 4. The size of boudary layers, also the perfectly matched layers, is 20 grid points."
   ]
  },
  {
   "cell_type": "code",
   "execution_count": null,
   "metadata": {
    "pycharm": {
     "name": "#%%\n"
    }
   },
   "outputs": [],
   "source": [
    "time_order = 2\n",
    "space_order = 4\n",
    "nbl = 20  # Number of boundary layers. Size of PML\n",
    "\n",
    "# Define simulation time.\n",
    "t0 = 0.0  # Start time of the simulation.\n",
    "tn = 1.e-5  # End time of the simulation [s].\n",
    "dt = 6e-10  # Time step [s].\n",
    "time_range = TimeAxis(start=t0, stop=tn, step=dt)\n",
    "nt = time_range.num\n",
    "\n",
    "# Create a model\n",
    "model = Model(vp=vp, rho=rho, origin=origin, shape=shape, spacing=spacing, space_order=space_order, dt=dt, nbl=nbl)\n"
   ]
  },
  {
   "cell_type": "markdown",
   "metadata": {
    "pycharm": {
     "name": "#%% md\n"
    }
   },
   "source": [
    "## Define the source\n",
    "\n",
    "A line source transmits a 3-cycle tone burst plane wave at a central frequency of $2 \\text{ MHz}$. The line source covers a range from $0$ to $30 \\text{ mm}$ in x direction, with a fixed z-coordinate at $1 \\text{ mm}$.\n",
    "\n",
    "The source coordinates are defined out of grid and in the unit of meter. Here, for convenience, we make spacing between neighboring source points uniform and matching the grid spacing. The total number of source points is calculated by $(30 \\text{ mm}/\\text{spacing})$.\n"
   ]
  },
  {
   "cell_type": "code",
   "execution_count": null,
   "metadata": {
    "pycharm": {
     "name": "#%%\n"
    }
   },
   "outputs": [],
   "source": [
    "# Define a line source.\n",
    "f0 = 2e6 # Central frequency in [Hz]\n",
    "src_npoints = int(30.e-3 / spacing[0])\n",
    "src = ToneBurstSource(name='src', grid=model.grid, f0=f0, cycles=3, npoint=src_npoints, time_range=time_range) # source signal is a 3-cycle tone burst\n",
    "\n",
    "# Define source coordinates\n",
    "src.coordinates.data[:, 0] = np.arange(0., 30.e-3, spacing[0]) # x-direction\n",
    "src.coordinates.data[:, 1] = 2.e-3 # z-direction"
   ]
  },
  {
   "cell_type": "markdown",
   "metadata": {
    "pycharm": {
     "name": "#%% md\n"
    }
   },
   "source": [
    "## Define the receiver\n",
    "The definition of receiver is similar to source. We define four point receivers to receive the signals."
   ]
  },
  {
   "cell_type": "code",
   "execution_count": null,
   "metadata": {
    "pycharm": {
     "name": "#%%\n"
    }
   },
   "outputs": [],
   "source": [
    "# Define a point receiver\n",
    "rec = Receiver(name='rec', grid=model.grid, npoint=4, time_range=time_range)\n",
    "rec.coordinates.data[0, 0] = 15.e-3\n",
    "rec.coordinates.data[0, 1] = 2.e-3\n",
    "rec.coordinates.data[1, 0] = 15.e-3\n",
    "rec.coordinates.data[1, 1] = 3.35e-3\n",
    "rec.coordinates.data[2, 0] = 15.e-3\n",
    "rec.coordinates.data[2, 1] = 8.75e-3\n",
    "rec.coordinates.data[3, 0] = 15.e-3\n",
    "rec.coordinates.data[3, 1] = 15.5e-3"
   ]
  },
  {
   "cell_type": "code",
   "execution_count": null,
   "metadata": {
    "pycharm": {
     "name": "#%%\n"
    }
   },
   "outputs": [],
   "source": [
    "plot_velocity(model, source=src.coordinates.data, receiver=rec.coordinates.data)"
   ]
  },
  {
   "cell_type": "markdown",
   "metadata": {
    "pycharm": {
     "name": "#%% md\n"
    }
   },
   "source": [
    "## Operator\n",
    "Operator acts as the computational engine of UltraWave. It takes the model, source, and receiver configurations as input and implement the wave equations."
   ]
  },
  {
   "cell_type": "markdown",
   "metadata": {
    "pycharm": {
     "name": "#%% md\n"
    }
   },
   "source": []
  },
  {
   "cell_type": "code",
   "execution_count": null,
   "metadata": {
    "pycharm": {
     "name": "#%%\n"
    }
   },
   "outputs": [],
   "source": [
    "# Define the operator\n",
    "op = Acoustic2DOperator(model, source=src, reciever=rec, eta_1=eta_1, eta_2=eta_2, tau_1=tau_1, tau_2=tau_2)\n",
    "\n",
    "# Run the operator\n",
    "op(time=time_range.num-1, dt=dt)"
   ]
  },
  {
   "cell_type": "code",
   "execution_count": null,
   "metadata": {
    "pycharm": {
     "name": "#%%\n"
    }
   },
   "outputs": [],
   "source": [
    "RF0 = rec.data#[:, 1]\n",
    "time = np.linspace(t0, tn, nt)\n",
    "plt.figure(figsize=(12,8))\n",
    "plt.plot(time, RF0, '-r')\n",
    "#plt.plot(time, rec.data[:,2])\n",
    "plt.xlabel('time (ms)')\n",
    "plt.show()"
   ]
  },
  {
   "cell_type": "code",
   "execution_count": null,
   "metadata": {
    "pycharm": {
     "name": "#%%\n"
    }
   },
   "outputs": [],
   "source": []
  }
 ],
 "metadata": {
  "kernelspec": {
   "display_name": "Python 3 (ipykernel)",
   "language": "python",
   "name": "python3"
  },
  "language_info": {
   "codemirror_mode": {
    "name": "ipython",
    "version": 3
   },
   "file_extension": ".py",
   "mimetype": "text/x-python",
   "name": "python",
   "nbconvert_exporter": "python",
   "pygments_lexer": "ipython3",
   "version": "3.9.18"
  }
 },
 "nbformat": 4,
 "nbformat_minor": 1
}