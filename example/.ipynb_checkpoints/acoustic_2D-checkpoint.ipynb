{
 "cells": [
  {
   "cell_type": "markdown",
   "metadata": {
    "pycharm": {
     "name": "#%% md\n"
    }
   },
   "source": [
    "# Acoustic 2D Example\n",
    "\n",
    "This notebook demonstrates a 2D acoustic wave simulation for scattering from a disc fluid scatterer. We'll guide you through the setup process step by step."
   ]
  },
  {
   "cell_type": "code",
   "execution_count": 1,
   "metadata": {
    "pycharm": {
     "name": "#%%\n"
    }
   },
   "outputs": [
    {
     "ename": "ModuleNotFoundError",
     "evalue": "No module named 'ultrawave'",
     "output_type": "error",
     "traceback": [
      "\u001B[0;31m---------------------------------------------------------------------------\u001B[0m",
      "\u001B[0;31mModuleNotFoundError\u001B[0m                       Traceback (most recent call last)",
      "Cell \u001B[0;32mIn[1], line 10\u001B[0m\n\u001B[1;32m      7\u001B[0m \u001B[38;5;28;01mif\u001B[39;00m module_path \u001B[38;5;129;01mnot\u001B[39;00m \u001B[38;5;129;01min\u001B[39;00m sys\u001B[38;5;241m.\u001B[39mpath:\n\u001B[1;32m      8\u001B[0m     sys\u001B[38;5;241m.\u001B[39mpath\u001B[38;5;241m.\u001B[39mappend(module_path)\n\u001B[0;32m---> 10\u001B[0m \u001B[38;5;28;01mimport\u001B[39;00m \u001B[38;5;21;01multrawave\u001B[39;00m\n\u001B[1;32m     11\u001B[0m \u001B[38;5;28;01mfrom\u001B[39;00m \u001B[38;5;21;01msrc\u001B[39;00m\u001B[38;5;21;01m.\u001B[39;00m\u001B[38;5;21;01mlib\u001B[39;00m\u001B[38;5;21;01m.\u001B[39;00m\u001B[38;5;21;01mmodel_2d\u001B[39;00m \u001B[38;5;28;01mimport\u001B[39;00m Model\n",
      "\u001B[0;31mModuleNotFoundError\u001B[0m: No module named 'ultrawave'"
     ]
    }
   ],
   "source": [
    "import numpy as np\n",
    "import matplotlib.pyplot as plt\n",
    "\n",
    "import sys\n",
    "import os\n",
    "module_path = os.path.abspath(os.path.join( '..'))\n",
    "if module_path not in sys.path:\n",
    "    sys.path.append(module_path)\n",
    "\n",
    "import ultrawave\n",
    "from ultrawave.lib.model_2d import Model"
   ]
  },
  {
   "cell_type": "markdown",
   "metadata": {
    "pycharm": {
     "name": "#%% md\n"
    }
   },
   "source": [
    "## GPU acceleration\n",
    "\n",
    "To use GPU to accelerate this simulation, you need to have NVIDIA HPC SDK installed, and run the following code.\n",
    "\n",
    "If you don't want to use GPU, just skip this part. The code will automatically ran on CPU."
   ]
  },
  {
   "cell_type": "code",
   "execution_count": 2,
   "metadata": {
    "pycharm": {
     "name": "#%%\n"
    }
   },
   "outputs": [],
   "source": [
    "from devito import configuration\n",
    "configuration['platform'] = 'nvidiaX'\n",
    "configuration['compiler'] = 'pgcc'\n",
    "configuration['language'] = 'openacc'"
   ]
  },
  {
   "cell_type": "markdown",
   "metadata": {
    "pycharm": {
     "name": "#%% md\n"
    }
   },
   "source": [
    "## Define the model\n",
    "\n",
    "The model encapsulates the simulation grid and medium properties:\n",
    "\n",
    "- **Grid Setup**: We start by defining a grid with specified spacing and shape.\n",
    "- **Background Medium**: A homogeneous medium with a sound speed of $1500 \\text{ m/s}$ and a density of $1000 \\text{ kg/m}^3$.\n"
   ]
  },
  {
   "cell_type": "code",
   "execution_count": 3,
   "metadata": {
    "pycharm": {
     "name": "#%%\n"
    }
   },
   "outputs": [],
   "source": [
    "# Define grid spacing in [m]\n",
    "spacing = (5.e-5, 5.e-5) # [m]\n",
    "\n",
    "# The number of grid points in each dimension\n",
    "shape = (int(12e-3/spacing[0]),\n",
    "         int(12e-3/spacing[1]))\n",
    "\n",
    "# Define the origin coordinate, which is the top left corner of the grid\n",
    "origin = (0., 0.)\n",
    "\n",
    "# Compressional wave speed\n",
    "vp_background = 1500  # Background speed in [m/s].\n",
    "vp = np.full(shape, vp_background, dtype=np.float32)\n",
    "\n",
    "# Density\n",
    "rho_background = 1000  # Background density in [kg/m^3].\n",
    "rho = np.full(shape, rho_background, dtype=np.float32)"
   ]
  },
  {
   "cell_type": "markdown",
   "metadata": {
    "pycharm": {
     "name": "#%% md\n"
    }
   },
   "source": [
    "- **Disc Fluid Scatterer**:\n",
    "  - **Location**: Centered in the middle of the grid.\n",
    "  - **Radius**: $0.25 \\text{ mm}$.\n",
    "  - **Properties**: A sound speed of $1520 \\text{ m/s}$ and a density of $1050 \\text{ kg/m}^3$."
   ]
  },
  {
   "cell_type": "code",
   "execution_count": 4,
   "metadata": {
    "pycharm": {
     "name": "#%%\n"
    }
   },
   "outputs": [],
   "source": [
    "# Define a disc scatterer.\n",
    "r = int(0.25e-3 / spacing[0])  # Radius of the disc in grid points.\n",
    "center_x, center_z = (shape[0] // 2, shape[1] // 2) # Center of the disc.\n",
    "x, z = np.ogrid[-center_x:shape[0]-center_x,\n",
    "                -center_z:shape[1]-center_z]\n",
    "\n",
    "mask = (x**2 + z**2 <= r**2)\n",
    "vp_scatter = 1520     # Speed of scatterer in [m/s].\n",
    "rho_scatter = 1050     # Density of scatterer in [kg/m^3].\n",
    "vp[mask] = vp_scatter\n",
    "rho[mask] = rho_scatter"
   ]
  },
  {
   "cell_type": "markdown",
   "metadata": {
    "pycharm": {
     "name": "#%% md\n"
    }
   },
   "source": [
    "With the simulating grid and medium defined, we can create a 3D model with a time order of 2 and space order of 4. The size of boudary layers, also the perfectly matched layers, is 20 grid points."
   ]
  },
  {
   "cell_type": "code",
   "execution_count": 5,
   "metadata": {
    "pycharm": {
     "name": "#%%\n"
    }
   },
   "outputs": [],
   "source": [
    "time_order = 2\n",
    "space_order = 4\n",
    "nbl = 20  # Number of boundary layers. Size of PML\n",
    "\n",
    "# Define simulation time.\n",
    "t0 = 0.0  # Start time of the simulation.\n",
    "tn = 1.e-5  # End time of the simulation [s].\n",
    "dt = 2e-9  # Time step [s].\n",
    "time_range = TimeAxis(start=t0, stop=tn, step=dt)\n",
    "nt = time_range.num\n",
    "\n",
    "# Create a model\n",
    "model = Model(vp=vp, rho=rho, origin=origin, shape=shape, spacing=spacing, space_order=space_order, dt=dt, nbl=nbl)\n"
   ]
  },
  {
   "cell_type": "markdown",
   "metadata": {
    "pycharm": {
     "name": "#%% md\n"
    }
   },
   "source": [
    "## Define the source\n",
    "\n",
    "A line source transmits a 3-cycle tone burst plane wave at a central frequency of $2 \\text{ MHz}$. The line source covers a range from $0$ to $12 \\text{ mm}$ in x direction, with a fixed z-coordinate at $1 \\text{ mm}$.\n",
    "\n",
    "The source coordinates are defined out of grid and in the unit of meter. Here, for convenience, we make spacing between neighboring source points uniform and matching the grid spacing. The total number of source points is calculated by $(12 \\text{ mm}/\\text{spacing})$.\n"
   ]
  },
  {
   "cell_type": "code",
   "execution_count": 6,
   "metadata": {
    "pycharm": {
     "name": "#%%\n"
    }
   },
   "outputs": [],
   "source": [
    "# Define a line source.\n",
    "f0 = 2e6 # Central frequency in [Hz]\n",
    "src_npoints = int(12.e-3 / spacing[0])\n",
    "src = ToneBurstSource(name='src', grid=model.grid, f0=f0, cycles=3, npoint=src_npoints, time_range=time_range) # source signal is a 3-cycle tone burst\n",
    "\n",
    "# Define source coordinates\n",
    "src.coordinates.data[:, 0] = np.arange(0., 12.e-3, spacing[0]) # x-direction\n",
    "src.coordinates.data[:, 1] = 2.e-3 # z-direction"
   ]
  },
  {
   "cell_type": "markdown",
   "metadata": {
    "pycharm": {
     "name": "#%% md\n"
    }
   },
   "source": [
    "## Define the receiver\n",
    "The definition of receiver is similar to source. We define a point receiver above the scatterer to receive the backscattered signal."
   ]
  },
  {
   "cell_type": "code",
   "execution_count": 7,
   "metadata": {
    "pycharm": {
     "name": "#%%\n"
    }
   },
   "outputs": [],
   "source": [
    "# Define a point receiver\n",
    "rec = Receiver(name='rec', grid=model.grid, npoint=1, time_range=time_range)\n",
    "rec.coordinates.data[:, 0] = 12.e-3/2\n",
    "rec.coordinates.data[:, 1] = 3.e-3"
   ]
  },
  {
   "cell_type": "code",
   "execution_count": 8,
   "metadata": {
    "pycharm": {
     "name": "#%%\n"
    }
   },
   "outputs": [
    {
     "data": {
      "image/png": "[encoded data removed]",
      "text/plain": [
       "<Figure size 640x480 with 2 Axes>"
      ]
     },
     "metadata": {},
     "output_type": "display_data"
    }
   ],
   "source": [
    "plot_velocity(model, source=src.coordinates.data, receiver=rec.coordinates.data)"
   ]
  },
  {
   "cell_type": "markdown",
   "metadata": {
    "pycharm": {
     "name": "#%% md\n"
    }
   },
   "source": [
    "## Operator\n",
    "Operator acts as the computational engine of UltraWave. It takes the model, source, and receiver configurations as input and implement the wave equations."
   ]
  },
  {
   "cell_type": "markdown",
   "metadata": {
    "pycharm": {
     "name": "#%% md\n"
    }
   },
   "source": []
  },
  {
   "cell_type": "code",
   "execution_count": 9,
   "metadata": {
    "pycharm": {
     "name": "#%%\n"
    }
   },
   "outputs": [
    {
     "name": "stderr",
     "output_type": "stream",
     "text": [
      "Operator `Kernel` ran in 0.57 s\n"
     ]
    },
    {
     "data": {
      "text/plain": [
       "PerformanceSummary([(PerfKey(name='section0', rank=None),\n",
       "                     PerfEntry(time=0.11348299999999037, gflopss=0.0, gpointss=0.0, oi=0.0, ops=0, itershapes=[])),\n",
       "                    (PerfKey(name='section1', rank=None),\n",
       "                     PerfEntry(time=0.3465120000000205, gflopss=0.0, gpointss=0.0, oi=0.0, ops=0, itershapes=[])),\n",
       "                    (PerfKey(name='section2', rank=None),\n",
       "                     PerfEntry(time=0.05291399999999996, gflopss=0.0, gpointss=0.0, oi=0.0, ops=0, itershapes=[])),\n",
       "                    (PerfKey(name='section3', rank=None),\n",
       "                     PerfEntry(time=0.04468100000000153, gflopss=0.0, gpointss=0.0, oi=0.0, ops=0, itershapes=[]))])"
      ]
     },
     "execution_count": 9,
     "metadata": {},
     "output_type": "execute_result"
    }
   ],
   "source": [
    "# Define the operator\n",
    "op = Acoustic2DOperator(model, source=src, reciever=rec)\n",
    "\n",
    "# Run the operator\n",
    "op(time=time_range.num-1, dt=dt)"
   ]
  },
  {
   "cell_type": "code",
   "execution_count": 10,
   "metadata": {
    "pycharm": {
     "name": "#%%\n"
    }
   },
   "outputs": [
    {
     "data": {
      "image/png": "[encoded data removed]",
      "text/plain": [
       "<Figure size 1200x800 with 1 Axes>"
      ]
     },
     "metadata": {},
     "output_type": "display_data"
    }
   ],
   "source": [
    "RF0 = rec.data#[:, 1]\n",
    "time = np.linspace(t0, tn, nt)\n",
    "plt.figure(figsize=(12,8))\n",
    "plt.plot(time, RF0, '-r')\n",
    "#plt.plot(time, rec.data[:,2])\n",
    "plt.xlabel('time (ms)')\n",
    "plt.show()"
   ]
  },
  {
   "cell_type": "code",
   "execution_count": null,
   "metadata": {},
   "outputs": [],
   "source": []
  }
 ],
 "metadata": {
  "kernelspec": {
   "display_name": "Python 3 (ipykernel)",
   "language": "python",
   "name": "python3"
  },
  "language_info": {
   "codemirror_mode": {
    "name": "ipython",
    "version": 3
   },
   "file_extension": ".py",
   "mimetype": "text/x-python",
   "name": "python",
   "nbconvert_exporter": "python",
   "pygments_lexer": "ipython3",
   "version": "3.9.18"
  }
 },
 "nbformat": 4,
 "nbformat_minor": 1
}