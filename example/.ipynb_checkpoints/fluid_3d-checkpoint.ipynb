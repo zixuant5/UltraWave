{
 "cells": [
  {
   "cell_type": "raw",
   "metadata": {
    "pycharm": {
     "name": "#%% raw\n"
    }
   },
   "source": [
    "This is an example for 3D acoustic wave simulation, where a fluid spherical scatterer is simulated."
   ]
  },
  {
   "cell_type": "code",
   "execution_count": 1,
   "metadata": {
    "pycharm": {
     "name": "#%%\n"
    }
   },
   "outputs": [],
   "source": [
    "import numpy as np\n",
    "import matplotlib.pyplot as plt\n",
    "\n",
    "from src.lib import TimeAxis, Receiver, ToneBurstSource\n",
    "from src.lib.model_3d import Model\n",
    "from src.lib.operator import Acoustic3DOperator"
   ]
  },
  {
   "cell_type": "markdown",
   "metadata": {
    "pycharm": {
     "name": "#%% md\n"
    }
   },
   "source": []
  },
  {
   "cell_type": "code",
   "execution_count": 2,
   "metadata": {
    "pycharm": {
     "name": "#%%\n"
    }
   },
   "outputs": [],
   "source": [
    "# Define grid spacing in [m]\n",
    "spacing = (5.e-5, 5.e-5, 5.e-5) # [m]\n",
    "\n",
    "# The number of grid points in each dimension\n",
    "shape = (int(12e-3/spacing[0]),\n",
    "         int(12e-3/spacing[1]),\n",
    "         int(8e-3/spacing[2]))\n",
    "\n",
    "# Define the origin coordinate, which is the top left corner of the grid\n",
    "origin = (0., 0., 0.)\n",
    "\n",
    "# Compressional wave speed\n",
    "vp_background = 1500  # Background speed in [m/s].\n",
    "vp = np.full(shape, vp_background, dtype=np.float32)\n",
    "\n",
    "# Density\n",
    "rho_background = 1000  # Background density in [kg/m^3].\n",
    "rho = np.full(shape, rho_background, dtype=np.float32)"
   ]
  },
  {
   "cell_type": "code",
   "execution_count": 3,
   "metadata": {
    "pycharm": {
     "name": "#%%\n"
    }
   },
   "outputs": [],
   "source": [
    "# Define a spherical scatterer.\n",
    "r = int(0.25e-3 / spacing[0])  # Radius of the sphere in grid points.\n",
    "center_x, center_y, center_z = (shape[0] // 2, shape[1] // 2, shape[2] // 2) # Center of the sphere.\n",
    "x, y, z = np.ogrid[-center_x:shape[0]-center_x,\n",
    "                   -center_y:shape[1]-center_y,\n",
    "                   -center_z:shape[2]-center_z]\n",
    "\n",
    "mask = (x**2 + y**2 + z**2 <= r**2)\n",
    "vp_scatter = 1520     # Speed of scatterer in [m/s].\n",
    "rho_scatter = 1050     # Density of scatterer in [kg/m^3].\n",
    "vp[mask] = vp_scatter\n",
    "rho[mask] = rho_scatter"
   ]
  },
  {
   "cell_type": "code",
   "execution_count": 4,
   "metadata": {
    "pycharm": {
     "name": "#%%\n"
    }
   },
   "outputs": [],
   "source": [
    "time_order = 2\n",
    "space_order = 4\n",
    "nbl = 20  # Number of boundary layers. Size of PML\n",
    "\n",
    "# Define simulation time.\n",
    "t0 = 0.0  # Start time of the simulation.\n",
    "tn = 1.e-5  # End time of the simulation [s].\n",
    "dt = 2e-9  # Time step [s].\n",
    "time_range = TimeAxis(start=t0, stop=tn, step=dt)\n",
    "nt = time_range.num\n",
    "\n",
    "# Create a model\n",
    "model = Model(vp=vp, rho=rho, origin=origin, shape=shape, spacing=spacing, space_order=space_order, dt=dt, nbl=nbl)\n"
   ]
  },
  {
   "cell_type": "code",
   "execution_count": 5,
   "metadata": {
    "pycharm": {
     "name": "#%%\n"
    }
   },
   "outputs": [],
   "source": [
    "# Define a planar source.\n",
    "f0 = 2e6 # Central frequency in [Hz]\n",
    "src_npoints = int(12.e-3 / spacing[0]) * int(12.e-3 / spacing[1])\n",
    "src = ToneBurstSource(name='src', grid=model.grid, f0=f0, cycles=3, npoint=src_npoints, time_range=time_range) # source signal is a 3-cycle tone burst\n",
    "\n",
    "# Define source coordinates\n",
    "x = np.arange(0., 12.e-3, spacing[0])\n",
    "y = np.arange(0., 12.e-3, spacing[0])\n",
    "xv, yv = np.meshgrid(x, y)\n",
    "src.coordinates.data[:, 0] = np.reshape(xv, -1)\n",
    "src.coordinates.data[:, 1] = np.reshape(yv, -1)\n",
    "src.coordinates.data[:, 2] = 1.e-3  # Position in the z-direction."
   ]
  },
  {
   "cell_type": "code",
   "execution_count": 16,
   "metadata": {
    "pycharm": {
     "name": "#%%\n"
    }
   },
   "outputs": [
    {
     "data": {
      "text/plain": [
       "Data([ 0.        ,  0.        , 20.00000095])"
      ]
     },
     "execution_count": 16,
     "metadata": {},
     "output_type": "execute_result"
    }
   ],
   "source": [
    "src.coordinates.data[0,:]/spacing"
   ]
  },
  {
   "cell_type": "code",
   "execution_count": 17,
   "metadata": {
    "pycharm": {
     "name": "#%%\n"
    }
   },
   "outputs": [],
   "source": [
    "indices = np.floor(src.coordinates.data[0,:] / spacing).astype(int)\n",
    "\n",
    "# Access the grid values using the indices\n",
    "# Ensure indices are in the correct order if necessary, depending on how your grid is structured\n",
    "vp_value = model.vp.data[indices[0], indices[1], indices[2]]"
   ]
  },
  {
   "cell_type": "code",
   "execution_count": null,
   "metadata": {
    "pycharm": {
     "name": "#%%\n"
    }
   },
   "outputs": [],
   "source": [
    "# Define a point receiver\n",
    "rec = Receiver(name='rec', grid=model.grid, npoint=1, time_range=time_range)\n",
    "rec.coordinates.data[:, 0] = 12.e-3/2\n",
    "rec.coordinates.data[:, 1] = 12.e-3/2\n",
    "rec.coordinates.data[:, 2] = 1.e-3"
   ]
  },
  {
   "cell_type": "code",
   "execution_count": null,
   "metadata": {
    "pycharm": {
     "name": "#%%\n"
    }
   },
   "outputs": [],
   "source": [
    "# Define the operator\n",
    "op = Acoustic3DOperator(model, source=src, reciever=rec)\n",
    "\n",
    "# Run the operator\n",
    "op(time=time_range.num-1, dt=dt)"
   ]
  },
  {
   "cell_type": "code",
   "execution_count": null,
   "metadata": {
    "pycharm": {
     "name": "#%%\n"
    }
   },
   "outputs": [],
   "source": [
    "RF0 = rec.data[:, 1]\n",
    "time = np.linspace(t0, tn, nt)\n",
    "plt.figure(figsize=(12,8))\n",
    "plt.plot(time, RF0, '-r')\n",
    "#plt.plot(time, rec.data[:,2])\n",
    "plt.xlabel('time (ms)')\n",
    "plt.show()"
   ]
  },
  {
   "cell_type": "code",
   "execution_count": null,
   "metadata": {
    "pycharm": {
     "name": "#%%\n"
    }
   },
   "outputs": [],
   "source": []
  }
 ],
 "metadata": {
  "kernelspec": {
   "display_name": "Python 3",
   "language": "python",
   "name": "python3"
  },
  "language_info": {
   "codemirror_mode": {
    "name": "ipython",
    "version": 3
   },
   "file_extension": ".py",
   "mimetype": "text/x-python",
   "name": "python",
   "nbconvert_exporter": "python",
   "pygments_lexer": "ipython3",
   "version": "3.6.13"
  }
 },
 "nbformat": 4,
 "nbformat_minor": 1
}
