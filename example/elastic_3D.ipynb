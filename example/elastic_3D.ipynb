{
 "cells": [
  {
   "cell_type": "markdown",
   "metadata": {
    "pycharm": {
     "name": "#%% md\n"
    }
   },
   "source": [
    "# Elastic 3D\n",
    "\n",
    "This notebook demonstrates a 3D elastic wave simulation for scattering from a spherical solid scatterer. We'll guide you through the setup process step by step."
   ]
  },
  {
   "cell_type": "code",
   "execution_count": null,
   "metadata": {
    "pycharm": {
     "name": "#%%\n"
    }
   },
   "outputs": [],
   "source": [
    "import numpy as np\n",
    "import matplotlib.pyplot as plt\n",
    "\n",
    "from ultrawave import TimeAxis, ToneBurstSource, Receiver, plot_velocity\n",
    "from ultrawave.lib.model_3d import Model\n",
    "from ultrawave.lib.operator import Elastic3DOperator"
   ]
  },
  {
   "cell_type": "markdown",
   "metadata": {
    "pycharm": {
     "name": "#%% md\n"
    }
   },
   "source": [
    "## GPU acceleration\n",
    "\n",
    "To use GPU to accelerate this simulation, you need to have NVIDIA HPC SDK installed, and run the following code."
   ]
  },
  {
   "cell_type": "code",
   "execution_count": null,
   "metadata": {
    "pycharm": {
     "name": "#%%\n"
    }
   },
   "outputs": [],
   "source": [
    "from devito import configuration\n",
    "configuration['platform'] = 'nvidiaX'\n",
    "configuration['compiler'] = 'pgcc'\n",
    "configuration['language'] = 'openacc'"
   ]
  },
  {
   "cell_type": "markdown",
   "metadata": {
    "pycharm": {
     "name": "#%% md\n"
    }
   },
   "source": [
    "## Define the model\n",
    "\n",
    "The model encapsulates the simulation grid and medium properties:\n",
    "\n",
    "- **Grid Setup**: We start by defining a grid with specified spacing and shape.\n",
    "- **Background Medium**:  A homogeneous medium with a compressional wave speed of $1500 \\text{ m/s}$, a shear wave speed of $0$, and a density of $1000 \\text{ kg/m}^3$.\n"
   ]
  },
  {
   "cell_type": "code",
   "execution_count": null,
   "metadata": {
    "pycharm": {
     "name": "#%%\n"
    }
   },
   "outputs": [],
   "source": [
    "# Define grid spacing in [m]\n",
    "spacing = (5.e-5, 5.e-5, 5.e-5) # [m]\n",
    "\n",
    "# The number of grid points in each dimension\n",
    "shape = (int(5e-3/spacing[0]),\n",
    "         int(5e-3/spacing[1]),\n",
    "         int(3.5e-3/spacing[2]))\n",
    "\n",
    "# Define the origin coordinate, which is the top left corner of the grid\n",
    "origin = (0., 0., 0.)\n",
    "\n",
    "# Compressional wave speed\n",
    "vp_background = 1500  # Background speed in [m/s].\n",
    "vp = np.full(shape, vp_background, dtype=np.float32)\n",
    "\n",
    "# Shear wave speed\n",
    "vs_background = 0  # Background speed in [m/s].\n",
    "vs = np.full(shape, vs_background, dtype=np.float32)\n",
    "\n",
    "# Density\n",
    "rho_background = 1000  # Background density in [kg/m^3].\n",
    "rho = np.full(shape, rho_background, dtype=np.float32)"
   ]
  },
  {
   "cell_type": "markdown",
   "metadata": {
    "pycharm": {
     "name": "#%% md\n"
    }
   },
   "source": [
    "- **Spherical Solid Scatterer**:\n",
    "  - **Location**: $(x=2.5 \\text{ mm}, y=2.5 \\text{ mm}, z=2.5 \\text{ mm})$.\n",
    "  - **Radius**: $0.25 \\text{ mm}$.\n",
    "  - **Properties**: A compressional wave speed of $4030 \\text{ m/s}$, a shear wave speed of $1645 \\text{ m/s}$, and a density of $1960 \\text{ kg/m}^3$."
   ]
  },
  {
   "cell_type": "code",
   "execution_count": null,
   "metadata": {
    "pycharm": {
     "name": "#%%\n"
    }
   },
   "outputs": [],
   "source": [
    "# Define a spherical scatterer.\n",
    "r = int(0.25e-3 / spacing[0])  # Radius of the sphere in grid points.\n",
    "center_x, center_y, center_z = (shape[0] // 2, shape[1] // 2, int(2.5e-3/spacing[2])) # Center of the sphere.\n",
    "x, y, z = np.ogrid[-center_x:shape[0]-center_x,\n",
    "                   -center_y:shape[1]-center_y,\n",
    "                   -center_z:shape[2]-center_z]\n",
    "\n",
    "mask = (x**2 + y**2 + z**2 <= r**2)\n",
    "vp_scatter = 4030     # Compressional wave speed of scatterer in [m/s].\n",
    "vs_scatter = 1645     # Shear wave speed of scatterer in [m/s].\n",
    "rho_scatter = 1960     # Density of scatterer in [kg/m^3].\n",
    "vp[mask] = vp_scatter\n",
    "vs[mask] = vs_scatter\n",
    "rho[mask] = rho_scatter"
   ]
  },
  {
   "cell_type": "markdown",
   "metadata": {
    "pycharm": {
     "name": "#%% md\n"
    }
   },
   "source": [
    "With the simulating grid and medium defined, we can create a 3D model with a time order of 2 and space order of 4. The size of boudary layers, also the perfectly matched layers, is 30 grid points."
   ]
  },
  {
   "cell_type": "code",
   "execution_count": null,
   "metadata": {
    "pycharm": {
     "name": "#%%\n"
    }
   },
   "outputs": [],
   "source": [
    "time_order = 2\n",
    "space_order = 4\n",
    "nbl = 30  # Number of boundary layers. Size of PML\n",
    "\n",
    "# Define simulation time.\n",
    "t0 = 0.0  # Start time of the simulation.\n",
    "tn = 35.e-6  # End time of the simulation [s].\n",
    "dt = 6e-10  # Time step [s].\n",
    "time_range = TimeAxis(start=t0, stop=tn, step=dt)\n",
    "nt = time_range.num\n",
    "\n",
    "# Create a model\n",
    "model = Model(vp=vp, rho=rho, origin=origin, shape=shape, spacing=spacing, space_order=space_order, dt=dt, nbl=nbl)"
   ]
  },
  {
   "cell_type": "markdown",
   "metadata": {
    "pycharm": {
     "name": "#%% md\n"
    }
   },
   "source": [
    "## Define the source\n",
    "\n",
    "A planar source transmits a 3-cycle tone burst plane wave at a central frequency of $2 \\text{ MHz}$. The planar source covers a range from $0$ to $5 \\text{ mm}$ in both x and y directions, with a fixed z-coordinate at $1 \\text{ mm}$.\n",
    "\n",
    "The source coordinates are defined out of grid and in the unit of meter. Here, for convenience, we make spacing between neighboring source points uniform and matching the grid spacing. The total number of source points is calculated by $(5 \\text{ mm}/\\text{spacing})^2$.\n"
   ]
  },
  {
   "cell_type": "code",
   "execution_count": null,
   "metadata": {
    "pycharm": {
     "name": "#%%\n"
    }
   },
   "outputs": [],
   "source": [
    "# Define a planar source.\n",
    "f0 = 2e6 # Central frequency in [Hz]\n",
    "src_npoints = shape[0] * shape[1]\n",
    "src = ToneBurstSource(name='src', grid=model.grid, f0=f0, cycles=3, npoint=src_npoints, time_range=time_range) # source signal is a 3-cycle tone burst\n",
    "\n",
    "# Define source coordinates\n",
    "x = np.arange(0., 5.e-3, spacing[0])\n",
    "y = np.arange(0., 5.e-3, spacing[0])\n",
    "xv, yv = np.meshgrid(x, y)\n",
    "src.coordinates.data[:, 0] = np.reshape(xv, -1)\n",
    "src.coordinates.data[:, 1] = np.reshape(yv, -1)\n",
    "src.coordinates.data[:, 2] = 1.e-3  # Position in the z-direction."
   ]
  },
  {
   "cell_type": "markdown",
   "metadata": {
    "pycharm": {
     "name": "#%% md\n"
    }
   },
   "source": [
    "## Define the receiver\n",
    "The definition of receiver is similar to source. We define a point receiver above the scatterer to receive the backscattered signal."
   ]
  },
  {
   "cell_type": "code",
   "execution_count": null,
   "metadata": {
    "pycharm": {
     "name": "#%%\n"
    }
   },
   "outputs": [],
   "source": [
    "# Define a point receiver\n",
    "rec = Receiver(name='rec', grid=model.grid, npoint=1, time_range=time_range)\n",
    "rec.coordinates.data[:, 0] = 5.e-3/2\n",
    "rec.coordinates.data[:, 1] = 5.e-3/2\n",
    "rec.coordinates.data[:, 2] = 1.e-3"
   ]
  },
  {
   "cell_type": "markdown",
   "metadata": {
    "pycharm": {
     "name": "#%% md\n"
    }
   },
   "source": [
    "## Operator\n",
    "Operator acts as the computational engine of UltraWave. It takes the model, source, and receiver configurations as input and implement the wave equations."
   ]
  },
  {
   "cell_type": "code",
   "execution_count": null,
   "metadata": {
    "pycharm": {
     "name": "#%%\n"
    }
   },
   "outputs": [],
   "source": [
    "# Define the operator\n",
    "op = Elastic3DOperator(model, source=src, reciever=rec)\n",
    "\n",
    "# Run the operator\n",
    "op(time=time_range.num-1, dt=dt)"
   ]
  },
  {
   "cell_type": "markdown",
   "metadata": {
    "pycharm": {
     "name": "#%% md\n"
    }
   },
   "source": [
    "## Theoretical validation\n",
    "\n",
    "We validate the simulation results against theoretical signals using MATLAB.\n",
    "\n",
    "For convenience, here we use the MATLAB Engine API for Python to load the MATLAB code, which can be installed following the instructions at this [link](https://www.mathworks.com/help/matlab/matlab_external/python-setup-script-to-install-matlab-engine-api.html)."
   ]
  },
  {
   "cell_type": "code",
   "execution_count": null,
   "metadata": {
    "pycharm": {
     "name": "#%%\n"
    }
   },
   "outputs": [],
   "source": [
    "import matlab.engine\n",
    "eng = matlab.engine.start_matlab()\n",
    "eng.cd(r'../theoretical_validation', nargout=0)"
   ]
  },
  {
   "cell_type": "markdown",
   "metadata": {
    "pycharm": {
     "name": "#%% md\n"
    }
   },
   "source": [
    "The function call and parameters are as follows:\n",
    "[t, back, freq, back_f] = SolidSphere(theta, r_rev, r_src, a, rho1, c1, c2, rho0, c0, source_signal, t_step, t_end)\n",
    "Input parameters:\n",
    "\n",
    "    theta         - Scattering angle in radians; theta=0 implies backscattering.\n",
    "    r_rev         - Distance from the receiver to the center of the scatterer (m).\n",
    "    r_src         - Distance from the planar source to the center of the scatterer (m).\n",
    "    a             - Radius of the spherical scatterer (m).\n",
    "    rho1          - Density of the scatterer (kg/m^3).\n",
    "    c1            - Compressional wave speed of the scatterer (m/s).\n",
    "    c2            - Shear wave speed of the scatterer (m/s).\n",
    "    rho0          - Density of the background medium (kg/m^3).\n",
    "    c0            - Compressional wave speed of the background medium (m/s).\n",
    "    source_signal - The incident source signal, expected to be a 1xNt array.\n",
    "    t_step        - Time step of the source signal (s).\n",
    "    t_end         - End time of the source signal (s).\n",
    "\n",
    "Output parameters:\n",
    "\n",
    "    t             - Time vector corresponding to the source signal.\n",
    "    back          - Time-domain scattered signal, matching the length of the source signal.\n",
    "    freq          - Frequency vector for the frequency-domain analysis.\n",
    "    back_f        - Frequency-domain scattered signal, returned as a 1xNf complex array."
   ]
  },
  {
   "cell_type": "code",
   "execution_count": null,
   "metadata": {
    "pycharm": {
     "name": "#%%\n"
    }
   },
   "outputs": [],
   "source": [
    "source_signal = matlab.double(np.expand_dims(src.wavelet, axis=0))\n",
    "t, back = eng.SolidSphere(theta, r_rec, r_src, a, rho_scatter, vp_scatter, vs_scatter, rho_background, vp_background, source_signal, dt)"
   ]
  }
 ],
 "metadata": {
  "kernelspec": {
   "display_name": "Python 3 (ipykernel)",
   "language": "python",
   "name": "python3"
  },
  "language_info": {
   "codemirror_mode": {
    "name": "ipython",
    "version": 3
   },
   "file_extension": ".py",
   "mimetype": "text/x-python",
   "name": "python",
   "nbconvert_exporter": "python",
   "pygments_lexer": "ipython3",
   "version": "3.9.12"
  }
 },
 "nbformat": 4,
 "nbformat_minor": 4
}
